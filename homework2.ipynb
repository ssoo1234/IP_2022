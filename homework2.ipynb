{
 "cells": [
  {
   "cell_type": "code",
   "execution_count": 2,
   "metadata": {},
   "outputs": [],
   "source": [
    "import cv2\n",
    "import numpy as np\n",
    "\n",
    "cap = cv2.VideoCapture('/Users/hwangseho/Desktop/IP_2022/tracking2.avi')\n",
    "# cap = cv2.VideoCapture(0)\n",
    "\n",
    "while(cap.isOpened()):\n",
    "    # Take each frame\n",
    "    _, frame = cap.read()\n",
    "    \n",
    "    if not _:\n",
    "        break\n",
    "    \n",
    "    # Convert BGR to HSV\n",
    "    hsv = cv2.cvtColor(frame, cv2.COLOR_BGR2HSV)\n",
    "    \n",
    "    # define range of blue color in HSV\n",
    "    lower_yellow = np.array([20,100,100])\n",
    "    upper_yellow = np.array([30,255,255])\n",
    "    \n",
    "    # Threshold the HSV image to get only yellow colors\n",
    "    mask = cv2.inRange(hsv, lower_yellow, upper_yellow)\n",
    "    \n",
    "    # Bitwise-AND mask and original image\n",
    "    res = cv2.bitwise_and(frame,frame, mask= mask)\n",
    "\n",
    "    cv2.imshow('frame',frame)\n",
    "    cv2.imshow('mask',mask) \n",
    "    cv2.imshow('res',res)\n",
    "\n",
    "    k = cv2.waitKey(5) & 0xFF\n",
    "    if k == 27:\n",
    "        break\n",
    "\n",
    "cv2.destroyAllWindows()"
   ]
  }
 ],
 "metadata": {
  "kernelspec": {
   "display_name": "Python 3.8.13 ('opencv')",
   "language": "python",
   "name": "python3"
  },
  "language_info": {
   "codemirror_mode": {
    "name": "ipython",
    "version": 3
   },
   "file_extension": ".py",
   "mimetype": "text/x-python",
   "name": "python",
   "nbconvert_exporter": "python",
   "pygments_lexer": "ipython3",
   "version": "3.8.13"
  },
  "orig_nbformat": 4,
  "vscode": {
   "interpreter": {
    "hash": "535b5ac314c4abecb0268db72b21cb90aab61ee156292fce9ec3d28fdc5fca55"
   }
  }
 },
 "nbformat": 4,
 "nbformat_minor": 2
}
