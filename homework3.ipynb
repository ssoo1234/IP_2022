{
 "cells": [
  {
   "cell_type": "code",
   "execution_count": 79,
   "metadata": {},
   "outputs": [],
   "source": [
    "import numpy as np\n",
    "import cv2\n",
    "\n",
    "# cap = cv2.imread('/Users/hwangseho/Desktop/IP_2022/sIMG_8253.JPG')\n",
    "cap = cv2.imread('/Users/hwangseho/Desktop/IP_2022/sIMG_8254.JPG')\n",
    "\n",
    "img = cap.copy()\n",
    "roi = img[100:700, 100:900]\n",
    "\n",
    "gray = cv2.cvtColor(roi, cv2.COLOR_BGR2GRAY)\n",
    "gray_blur = cv2.GaussianBlur(gray, (15, 15), 0)\n",
    "thresh = cv2.adaptiveThreshold(gray_blur, 255, cv2.ADAPTIVE_THRESH_GAUSSIAN_C, cv2.THRESH_BINARY_INV, 11, 1)\n",
    "\n",
    "kernel = np.ones((5, 5), np.uint8)\n",
    "closing = cv2.morphologyEx(thresh, cv2.MORPH_OPEN, kernel, iterations=1)\n",
    "kernel = np.ones((3, 3), np.uint8)\n",
    "closing = cv2.dilate(closing, kernel, iterations = 4)\n",
    "\n",
    "cont_img = closing.copy()\n",
    "contours, hierarchy = cv2.findContours(cont_img, cv2.RETR_EXTERNAL, cv2.CHAIN_APPROX_SIMPLE)\n",
    "\n",
    "for cnt in contours:\n",
    "    area = cv2.contourArea(cnt)\n",
    "    # print(area)\n",
    "    # print(len(cnt))\n",
    "    if area < 3000 or area > 11000:\n",
    "        continue\n",
    "    if len(cnt) < 10:\n",
    "        continue\n",
    "    ellipse = cv2.fitEllipse(cnt)\n",
    "    cv2.ellipse(roi, ellipse, (0,255,0), 2)\n",
    "\n",
    "    # (x, y), radius = cv2.minEnclosingCircle(cnt)\n",
    "    # center = (int(x), int(y))\n",
    "    # radius = int(radius)\n",
    "    # cv2.circle(roi, center, radius, (0,0,255), 2)\n",
    "\n",
    "cv2.imshow('res', cap)\n",
    "cv2.imshow('thres', thresh)\n",
    "cv2.imshow('closing', closing)\n",
    "cv2.imshow('roi', roi)\n",
    "\n",
    "cv2.waitKey(0)\n",
    "cv2.destroyAllWindows()"
   ]
  }
 ],
 "metadata": {
  "kernelspec": {
   "display_name": "Python 3.8.13 ('opencv')",
   "language": "python",
   "name": "python3"
  },
  "language_info": {
   "codemirror_mode": {
    "name": "ipython",
    "version": 3
   },
   "file_extension": ".py",
   "mimetype": "text/x-python",
   "name": "python",
   "nbconvert_exporter": "python",
   "pygments_lexer": "ipython3",
   "version": "3.8.13"
  },
  "orig_nbformat": 4,
  "vscode": {
   "interpreter": {
    "hash": "535b5ac314c4abecb0268db72b21cb90aab61ee156292fce9ec3d28fdc5fca55"
   }
  }
 },
 "nbformat": 4,
 "nbformat_minor": 2
}
