{
 "cells": [
  {
   "cell_type": "markdown",
   "metadata": {},
   "source": [
    "# 1.4.4 Smoothing Images"
   ]
  },
  {
   "cell_type": "markdown",
   "metadata": {},
   "source": [
    "## Kernel Convolution"
   ]
  },
  {
   "cell_type": "code",
   "execution_count": 3,
   "metadata": {},
   "outputs": [],
   "source": [
    "import cv2\n",
    "import numpy as np\n",
    "from matplotlib import pyplot as plt"
   ]
  },
  {
   "cell_type": "code",
   "execution_count": 4,
   "metadata": {},
   "outputs": [],
   "source": [
    "l=1\n",
    "kernel = np.array([[0,-1,0],[-1,4,-1],[0,-1,0]],np.float32)"
   ]
  },
  {
   "cell_type": "code",
   "execution_count": 5,
   "metadata": {},
   "outputs": [
    {
     "data": {
      "text/plain": [
       "array([[ 0., -1.,  0.],\n",
       "       [-1.,  4., -1.],\n",
       "       [ 0., -1.,  0.]], dtype=float32)"
      ]
     },
     "execution_count": 5,
     "metadata": {},
     "output_type": "execute_result"
    }
   ],
   "source": [
    "kernel"
   ]
  },
  {
   "cell_type": "code",
   "execution_count": 6,
   "metadata": {},
   "outputs": [],
   "source": [
    "img = np.random.randint(10, size=(12,12))\n",
    "#img = np.ones((10,10),np.float32)"
   ]
  },
  {
   "cell_type": "code",
   "execution_count": 7,
   "metadata": {},
   "outputs": [
    {
     "data": {
      "text/plain": [
       "array([[2, 9, 9, 7, 9, 2, 0, 9, 2, 5, 3, 1],\n",
       "       [8, 1, 7, 7, 2, 1, 6, 4, 8, 1, 9, 3],\n",
       "       [3, 4, 4, 8, 1, 2, 5, 7, 6, 1, 7, 1],\n",
       "       [6, 8, 1, 9, 5, 6, 9, 3, 4, 9, 9, 3],\n",
       "       [2, 5, 8, 5, 2, 4, 4, 9, 8, 0, 5, 6],\n",
       "       [9, 8, 5, 1, 1, 1, 0, 2, 2, 1, 2, 1],\n",
       "       [7, 2, 6, 4, 7, 6, 8, 2, 0, 7, 9, 0],\n",
       "       [6, 5, 3, 8, 7, 7, 2, 8, 3, 9, 5, 4],\n",
       "       [3, 2, 9, 7, 9, 9, 2, 7, 1, 5, 4, 5],\n",
       "       [2, 0, 6, 1, 8, 5, 4, 6, 2, 3, 7, 3],\n",
       "       [0, 4, 4, 1, 8, 5, 3, 1, 0, 0, 7, 9],\n",
       "       [3, 0, 1, 4, 2, 3, 5, 8, 8, 4, 9, 6]])"
      ]
     },
     "execution_count": 7,
     "metadata": {},
     "output_type": "execute_result"
    }
   ],
   "source": [
    "img"
   ]
  },
  {
   "cell_type": "code",
   "execution_count": 8,
   "metadata": {},
   "outputs": [],
   "source": [
    "h,w=img.shape"
   ]
  },
  {
   "cell_type": "code",
   "execution_count": 9,
   "metadata": {},
   "outputs": [
    {
     "name": "stdout",
     "output_type": "stream",
     "text": [
      "12 12\n"
     ]
    }
   ],
   "source": [
    "print(h,w)"
   ]
  },
  {
   "cell_type": "code",
   "execution_count": 10,
   "metadata": {},
   "outputs": [],
   "source": [
    "#[*range(-2,3)]"
   ]
  },
  {
   "cell_type": "code",
   "execution_count": 11,
   "metadata": {},
   "outputs": [
    {
     "name": "stderr",
     "output_type": "stream",
     "text": [
      "/var/folders/g7/dh8v6rd91kz0fm7zl5kcjvq40000gn/T/ipykernel_51364/2160328971.py:1: DeprecationWarning: `np.int` is a deprecated alias for the builtin `int`. To silence this warning, use `int` by itself. Doing this will not modify any behavior and is safe. When replacing `np.int`, you may wish to use e.g. `np.int64` or `np.int32` to specify the precision. If you wish to review your current use, check the release note link for additional information.\n",
      "Deprecated in NumPy 1.20; for more details and guidance: https://numpy.org/devdocs/release/1.20.0-notes.html#deprecations\n",
      "  dst = np.zeros((h,w),np.int)\n"
     ]
    }
   ],
   "source": [
    "dst = np.zeros((h,w),np.int)"
   ]
  },
  {
   "cell_type": "code",
   "execution_count": 12,
   "metadata": {},
   "outputs": [],
   "source": [
    "for i in range(l,h-l):\n",
    "    for j in range(l,w-l):\n",
    "        t=0\n",
    "        for p in range(-l,l+1):\n",
    "            for q in range(-l,l+1):\n",
    "                t += kernel[p+l,q+l]*img[i+p,j+q]\n",
    "        dst[i,j]=t        "
   ]
  },
  {
   "cell_type": "code",
   "execution_count": 13,
   "metadata": {},
   "outputs": [
    {
     "data": {
      "text/plain": [
       "array([[2, 9, 9, 7, 9, 2, 0, 9, 2, 5, 3, 1],\n",
       "       [8, 1, 7, 7, 2, 1, 6, 4, 8, 1, 9, 3],\n",
       "       [3, 4, 4, 8, 1, 2, 5, 7, 6, 1, 7, 1],\n",
       "       [6, 8, 1, 9, 5, 6, 9, 3, 4, 9, 9, 3],\n",
       "       [2, 5, 8, 5, 2, 4, 4, 9, 8, 0, 5, 6],\n",
       "       [9, 8, 5, 1, 1, 1, 0, 2, 2, 1, 2, 1],\n",
       "       [7, 2, 6, 4, 7, 6, 8, 2, 0, 7, 9, 0],\n",
       "       [6, 5, 3, 8, 7, 7, 2, 8, 3, 9, 5, 4],\n",
       "       [3, 2, 9, 7, 9, 9, 2, 7, 1, 5, 4, 5],\n",
       "       [2, 0, 6, 1, 8, 5, 4, 6, 2, 3, 7, 3],\n",
       "       [0, 4, 4, 1, 8, 5, 3, 1, 0, 0, 7, 9],\n",
       "       [3, 0, 1, 4, 2, 3, 5, 8, 8, 4, 9, 6]])"
      ]
     },
     "execution_count": 13,
     "metadata": {},
     "output_type": "execute_result"
    }
   ],
   "source": [
    "img"
   ]
  },
  {
   "cell_type": "code",
   "execution_count": 14,
   "metadata": {},
   "outputs": [
    {
     "data": {
      "text/plain": [
       "array([[  0,   0,   0,   0,   0,   0,   0,   0,   0,   0,   0,   0],\n",
       "       [  0, -24,   7,   4, -10,  -8,  14, -14,  19, -19,  22,   0],\n",
       "       [  0,   0,  -4,  11, -13,  -5,  -4,  10,   4, -19,   8,   0],\n",
       "       [  0,  16, -25,  17,   2,   4,  18, -17, -10,  22,  12,   0],\n",
       "       [  0,  -6,  16,   0,  -7,   3,  -6,  19,  17, -23,   3,   0],\n",
       "       [  0,  11,  -3, -11,  -7,  -7, -15,  -5,  -3,  -7,  -8,   0],\n",
       "       [  0, -18,  10,  -6,  10,   1,  22, -10, -14,   9,  22,   0],\n",
       "       [  0,   7, -16,  11,  -3,   4, -17,  18,  -6,  16,  -6,   0],\n",
       "       [  0,  -9,  18,   1,   5,  13, -14,  11, -13,   3,  -6,   0],\n",
       "       [  0, -14,  10, -18,   9,  -6,   0,  10,  -2,  -2,  11,   0],\n",
       "       [  0,  12,   4, -13,  16,   1,  -3, -13, -11, -14,   3,   0],\n",
       "       [  0,   0,   0,   0,   0,   0,   0,   0,   0,   0,   0,   0]])"
      ]
     },
     "execution_count": 14,
     "metadata": {},
     "output_type": "execute_result"
    }
   ],
   "source": [
    "dst"
   ]
  },
  {
   "cell_type": "code",
   "execution_count": 15,
   "metadata": {},
   "outputs": [],
   "source": [
    "img = cv2.imread('/Users/hwangseho/Desktop/IP_2022/lena.png', 0)"
   ]
  },
  {
   "cell_type": "code",
   "execution_count": 16,
   "metadata": {},
   "outputs": [],
   "source": [
    "h,w = img.shape"
   ]
  },
  {
   "cell_type": "code",
   "execution_count": 17,
   "metadata": {},
   "outputs": [],
   "source": [
    "dst = np.zeros((h-2*l,w-2*l),np.uint8)"
   ]
  },
  {
   "cell_type": "code",
   "execution_count": 18,
   "metadata": {},
   "outputs": [],
   "source": [
    "for i in range(l,h-l):\n",
    "    for j in range(l,w-l):\n",
    "        t=0\n",
    "        for p in range(-l,l+1):\n",
    "            for q in range(-l,l+1):\n",
    "                t += kernel[p+l,q+l]*img[i+p,j+q]\n",
    "        dst[i-l,j-l]=t "
   ]
  },
  {
   "cell_type": "code",
   "execution_count": 19,
   "metadata": {},
   "outputs": [],
   "source": [
    "cv2.imshow('img',img)\n",
    "cv2.imshow('dst',dst)\n",
    "cv2.waitKey(0)\n",
    "cv2.destroyAllWindows()"
   ]
  },
  {
   "cell_type": "code",
   "execution_count": null,
   "metadata": {},
   "outputs": [],
   "source": []
  }
 ],
 "metadata": {
  "kernelspec": {
   "display_name": "Python 3.8.13 ('opencv')",
   "language": "python",
   "name": "python3"
  },
  "language_info": {
   "codemirror_mode": {
    "name": "ipython",
    "version": 3
   },
   "file_extension": ".py",
   "mimetype": "text/x-python",
   "name": "python",
   "nbconvert_exporter": "python",
   "pygments_lexer": "ipython3",
   "version": "3.8.13"
  },
  "vscode": {
   "interpreter": {
    "hash": "535b5ac314c4abecb0268db72b21cb90aab61ee156292fce9ec3d28fdc5fca55"
   }
  }
 },
 "nbformat": 4,
 "nbformat_minor": 4
}
