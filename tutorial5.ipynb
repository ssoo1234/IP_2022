{
 "cells": [
  {
   "cell_type": "code",
   "execution_count": null,
   "metadata": {},
   "outputs": [],
   "source": [
    "if x == 3 :\n",
    "    print(\"X equls 3.\")\n",
    "elif x == 2 :\n",
    "    print(\"X equls 2.\")\n",
    "else :\n",
    "    print(\"X equels something else.\")\n",
    "print(\"This is outside the 'if.\")"
   ]
  },
  {
   "cell_type": "code",
   "execution_count": 4,
   "metadata": {},
   "outputs": [
    {
     "name": "stdout",
     "output_type": "stream",
     "text": [
      "3 still in the loop\n",
      "4 still in the loop\n"
     ]
    }
   ],
   "source": [
    "x = 3\n",
    "\n",
    "while x < 5:\n",
    "    print(x, \"still in the loop\")\n",
    "    x = x + 1\n",
    "\n",
    "x = 6\n",
    "\n",
    "while x < 5:\n",
    "    print(x, \"still in the loop\")"
   ]
  },
  {
   "cell_type": "code",
   "execution_count": null,
   "metadata": {},
   "outputs": [],
   "source": [
    "assert(number_of_players < 5)"
   ]
  }
 ],
 "metadata": {
  "kernelspec": {
   "display_name": "Python 3.8.13 ('opencv')",
   "language": "python",
   "name": "python3"
  },
  "language_info": {
   "codemirror_mode": {
    "name": "ipython",
    "version": 3
   },
   "file_extension": ".py",
   "mimetype": "text/x-python",
   "name": "python",
   "nbconvert_exporter": "python",
   "pygments_lexer": "ipython3",
   "version": "3.8.13"
  },
  "orig_nbformat": 4,
  "vscode": {
   "interpreter": {
    "hash": "535b5ac314c4abecb0268db72b21cb90aab61ee156292fce9ec3d28fdc5fca55"
   }
  }
 },
 "nbformat": 4,
 "nbformat_minor": 2
}
