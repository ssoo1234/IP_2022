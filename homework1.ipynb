{
 "cells": [
  {
   "cell_type": "code",
   "execution_count": 1,
   "metadata": {},
   "outputs": [],
   "source": [
    "import cv2\n",
    "import numpy as np\n",
    "\n",
    "img = cv2.imread('/Users/hwangseho/lelabo.jpg')\n",
    "subimg = np.zeros_like(img, np.uint8)\n",
    "font = cv2.FONT_HERSHEY_SIMPLEX\n",
    "\n",
    "drawing = False # true if mouse is pressed\n",
    "ix,iy = -1,-1\n",
    "\n",
    "def nothing(x):\n",
    "    pass\n",
    "\n",
    "# mouse callback function\n",
    "def draw_rectangle(event,x,y,flags,param):\n",
    "    global ix,iy,drawing\n",
    "    \n",
    "    if event == cv2.EVENT_LBUTTONDOWN:\n",
    "        drawing = True\n",
    "        ix,iy = x,y\n",
    "    elif event == cv2.EVENT_MOUSEMOVE: \n",
    "        if drawing == True:\n",
    "            cv2.rectangle(subimg,(ix,iy),(x,y),(0,0,255),-1)\n",
    "    elif event == cv2.EVENT_LBUTTONUP:\n",
    "        drawing = False\n",
    "        cv2.rectangle(subimg,(ix,iy),(x,y),(0,0,255),-1)\n",
    "    else:\n",
    "        pass\n",
    "        \n",
    "cv2.namedWindow('image')\n",
    "cv2.setMouseCallback('image',draw_rectangle)\n",
    "cv2.createTrackbar('alpha','image',0,100,nothing)\n",
    "\n",
    "while(1):\n",
    "    dsp = img.copy()\n",
    "    cv2.putText(dsp, 'Mouse position (' + str(ix) + \" \" + str(iy) +\")\",(0,50), font, 1,(255,255,255),2,cv2.LINE_AA)\n",
    "    alpha = cv2.getTrackbarPos('value', 'image')\n",
    "    mask = subimg.astype(bool)\n",
    "    dsp[mask] = cv2.addWeighted(dsp, alpha, subimg, 1-alpha, 0)[mask]\n",
    "    cv2.imshow('image',dsp)\n",
    "\n",
    "    k = cv2.waitKey(1) & 0xFF\n",
    "    \n",
    "    if k == 27: \n",
    "        break\n",
    "\n",
    "cv2.destroyAllWindows()"
   ]
  }
 ],
 "metadata": {
  "kernelspec": {
   "display_name": "Python 3.8.13 ('opencv')",
   "language": "python",
   "name": "python3"
  },
  "language_info": {
   "codemirror_mode": {
    "name": "ipython",
    "version": 3
   },
   "file_extension": ".py",
   "mimetype": "text/x-python",
   "name": "python",
   "nbconvert_exporter": "python",
   "pygments_lexer": "ipython3",
   "version": "3.8.13"
  },
  "orig_nbformat": 4,
  "vscode": {
   "interpreter": {
    "hash": "535b5ac314c4abecb0268db72b21cb90aab61ee156292fce9ec3d28fdc5fca55"
   }
  }
 },
 "nbformat": 4,
 "nbformat_minor": 2
}
