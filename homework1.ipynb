{
 "cells": [
  {
   "cell_type": "code",
   "execution_count": 3,
   "metadata": {},
   "outputs": [
    {
     "ename": "",
     "evalue": "",
     "output_type": "error",
     "traceback": [
      "\u001b[1;31m현재 셀 또는 이전 셀에서 코드를 실행하는 동안 Kernel이 충돌했습니다. 셀의 코드를 검토하여 오류의 가능한 원인을 식별하세요. 자세한 내용을 보려면 <a href='https://aka.ms/vscodeJupyterKernelCrash'> 여기 </a> 를 클릭하세요. 자세한 내용은 Jupyter <a href='command:jupyter.viewOutput'>로그</a>를 참조하세요."
     ]
    },
    {
     "ename": "",
     "evalue": "",
     "output_type": "error",
     "traceback": [
      "\u001b[1;31mCanceled future for execute_request message before replies were done"
     ]
    }
   ],
   "source": [
    "import cv2\n",
    "import numpy as np\n",
    "\n",
    "img = cv2.imread('/Users/hwangseho/lelabo.jpg')\n",
    "font = cv2.FONT_HERSHEY_SIMPLEX\n",
    "\n",
    "drawing = False # true if mouse is pressed\n",
    "ix,iy = -1,-1\n",
    "\n",
    "def nothing(x):\n",
    "    pass\n",
    "\n",
    "# mouse callback function\n",
    "def draw_rectangle(event,x,y,flags,param):\n",
    "    global ix,iy,drawing,mode\n",
    "    \n",
    "    if event == cv2.EVENT_LBUTTONDOWN:\n",
    "        drawing = True\n",
    "        ix,iy = x,y\n",
    "    elif event == cv2.EVENT_MOUSEMOVE: \n",
    "        if drawing == True:\n",
    "            cv2.rectangle(img,(ix,iy),(x,y),(0,0,255),-1)\n",
    "    elif event == cv2.EVENT_LBUTTONUP:\n",
    "        drawing = False\n",
    "        cv2.rectangle(img,(ix,iy),(x,y),(0,0,255),-1)\n",
    "    else:\n",
    "        pass\n",
    "        \n",
    "cv2.namedWindow('image')\n",
    "cv2.setMouseCallback('image',draw_rectangle)\n",
    "cv2.createTrackbar('alpha','image',0,100,nothing)\n",
    "\n",
    "while(1):\n",
    "    dsp = img.copy()\n",
    "    cv2.putText(dsp, 'Mouse position (' + str(ix) + \" \" + str(iy) +\")\",(0,50), font, 1,(255,255,255),2,cv2.LINE_AA)\n",
    "    cv2.imshow('image',dsp)\n",
    "    alpha = cv2.getTrackbarPos('value', 'image')\n",
    "\n",
    "    k = cv2.waitKey(1) & 0xFF\n",
    "    \n",
    "    if k == 27: \n",
    "        break\n",
    "\n",
    "cv2.destroyAllWindows()"
   ]
  }
 ],
 "metadata": {
  "kernelspec": {
   "display_name": "Python 3.8.13 ('opencv')",
   "language": "python",
   "name": "python3"
  },
  "language_info": {
   "codemirror_mode": {
    "name": "ipython",
    "version": 3
   },
   "file_extension": ".py",
   "mimetype": "text/x-python",
   "name": "python",
   "nbconvert_exporter": "python",
   "pygments_lexer": "ipython3",
   "version": "3.8.13"
  },
  "orig_nbformat": 4,
  "vscode": {
   "interpreter": {
    "hash": "535b5ac314c4abecb0268db72b21cb90aab61ee156292fce9ec3d28fdc5fca55"
   }
  }
 },
 "nbformat": 4,
 "nbformat_minor": 2
}
